{
  "nbformat": 4,
  "nbformat_minor": 0,
  "metadata": {
    "colab": {
      "name": "recommend_keras_mf.ipynb",
      "version": "0.3.2",
      "provenance": [],
      "collapsed_sections": []
    },
    "kernelspec": {
      "name": "python3",
      "display_name": "Python 3"
    },
    "accelerator": "GPU"
  },
  "cells": [
    {
      "cell_type": "markdown",
      "metadata": {
        "id": "FPREM5tEHy62",
        "colab_type": "text"
      },
      "source": [
        "# Install & Import modules"
      ]
    },
    {
      "cell_type": "code",
      "metadata": {
        "id": "LXrsX8m52r__",
        "colab_type": "code",
        "outputId": "f8d26163-ffcb-43a9-abe9-a37c1905a346",
        "colab": {
          "base_uri": "https://localhost:8080/",
          "height": 161
        }
      },
      "source": [
        "!pip install keras"
      ],
      "execution_count": 0,
      "outputs": [
        {
          "output_type": "stream",
          "text": [
            "Requirement already satisfied: keras in /usr/local/lib/python3.6/dist-packages (2.2.4)\n",
            "Requirement already satisfied: pyyaml in /usr/local/lib/python3.6/dist-packages (from keras) (3.13)\n",
            "Requirement already satisfied: h5py in /usr/local/lib/python3.6/dist-packages (from keras) (2.8.0)\n",
            "Requirement already satisfied: scipy>=0.14 in /usr/local/lib/python3.6/dist-packages (from keras) (1.2.1)\n",
            "Requirement already satisfied: keras-preprocessing>=1.0.5 in /usr/local/lib/python3.6/dist-packages (from keras) (1.0.9)\n",
            "Requirement already satisfied: six>=1.9.0 in /usr/local/lib/python3.6/dist-packages (from keras) (1.12.0)\n",
            "Requirement already satisfied: numpy>=1.9.1 in /usr/local/lib/python3.6/dist-packages (from keras) (1.16.3)\n",
            "Requirement already satisfied: keras-applications>=1.0.6 in /usr/local/lib/python3.6/dist-packages (from keras) (1.0.7)\n"
          ],
          "name": "stdout"
        }
      ]
    },
    {
      "cell_type": "code",
      "metadata": {
        "id": "_AJhgVTQyV_f",
        "colab_type": "code",
        "colab": {}
      },
      "source": [
        "import os, codecs, gc\n",
        "import pandas as pd\n",
        "import codecs\n",
        "import numpy as np\n",
        "import matplotlib.pyplot as plt\n",
        "import warnings\n",
        "import keras\n",
        "from keras import regularizers\n",
        "from keras.layers import Input, Embedding, Flatten, merge, Dense, Dropout, Lambda, dot\n",
        "from keras.models import Model\n",
        "from keras.utils.vis_utils import model_to_dot\n",
        "from keras.constraints import non_neg\n",
        "from keras.callbacks import ModelCheckpoint, EarlyStopping, TerminateOnNaN\n",
        "from sklearn.metrics import mean_squared_error\n",
        "from sklearn.model_selection import train_test_split\n",
        "warnings.filterwarnings('ignore')"
      ],
      "execution_count": 0,
      "outputs": []
    },
    {
      "cell_type": "code",
      "metadata": {
        "id": "HFRKCYtU1uNn",
        "colab_type": "code",
        "outputId": "c1d3c155-c6f2-4f4e-c478-eae6a50e3308",
        "colab": {
          "base_uri": "https://localhost:8080/",
          "height": 35
        }
      },
      "source": [
        "# mount google my drive\n",
        "from google.colab import drive\n",
        "drive.mount('/content/drive')\n",
        "input_dir = \"drive/My Drive/input/\""
      ],
      "execution_count": 0,
      "outputs": [
        {
          "output_type": "stream",
          "text": [
            "Drive already mounted at /content/drive; to attempt to forcibly remount, call drive.mount(\"/content/drive\", force_remount=True).\n"
          ],
          "name": "stdout"
        }
      ]
    },
    {
      "cell_type": "markdown",
      "metadata": {
        "id": "gCQC5ZB83Oxg",
        "colab_type": "text"
      },
      "source": [
        "# Load data-file\n",
        " Book-Crossing Dataset  \n",
        " http://www2.informatik.uni-freiburg.de/~cziegler/BX/"
      ]
    },
    {
      "cell_type": "code",
      "metadata": {
        "id": "fsZqnUui1zdp",
        "colab_type": "code",
        "colab": {}
      },
      "source": [
        "# make dataframe from user data\n",
        "with codecs.open(input_dir + \"BX-Users.csv\", \"r\", \"utf8\", \"ignore\") as file:\n",
        "    user = pd.read_csv(file, delimiter=\";\")"
      ],
      "execution_count": 0,
      "outputs": []
    },
    {
      "cell_type": "code",
      "metadata": {
        "id": "HwXsPtWT2SWZ",
        "colab_type": "code",
        "colab": {}
      },
      "source": [
        "# make dataframe from items data\n",
        "col_name = [\"ISBN\", \"Title\", \"Author\", \"Year\", \"Publisher\", \"URL-S\", \"URL-M\", \"URL-L\"]\n",
        "with codecs.open(input_dir + \"BX-Books.csv\", \"r\", \"utf8\", \"ignore\") as file:\n",
        "    item = pd.read_csv(file, delimiter=\";\", names=col_name, skiprows=1, converters={\"Year\" : str})"
      ],
      "execution_count": 0,
      "outputs": []
    },
    {
      "cell_type": "code",
      "metadata": {
        "id": "v4RULXcT3NfD",
        "colab_type": "code",
        "colab": {}
      },
      "source": [
        "# make dataframe from rating data\n",
        "with codecs.open(input_dir + \"BX-Book-Ratings.csv\", \"r\", \"utf8\", \"ignore\") as file:\n",
        "    rating = pd.read_csv(file, delimiter=\";\")"
      ],
      "execution_count": 0,
      "outputs": []
    },
    {
      "cell_type": "markdown",
      "metadata": {
        "id": "fm2s48T13yzq",
        "colab_type": "text"
      },
      "source": [
        "# data cleaning"
      ]
    },
    {
      "cell_type": "code",
      "metadata": {
        "id": "HQrOremd4CGr",
        "colab_type": "code",
        "colab": {}
      },
      "source": [
        "# join dataframe item & rating\n",
        "rating_author = pd.merge(rating, item, how='left', on='ISBN')"
      ],
      "execution_count": 0,
      "outputs": []
    },
    {
      "cell_type": "code",
      "metadata": {
        "id": "UUNoHM-hI7t8",
        "colab_type": "code",
        "outputId": "ef84ff2d-795a-400b-fd90-5a0392d1db3a",
        "colab": {
          "base_uri": "https://localhost:8080/",
          "height": 430
        }
      },
      "source": [
        "rating_author.head()"
      ],
      "execution_count": 0,
      "outputs": [
        {
          "output_type": "execute_result",
          "data": {
            "text/html": [
              "<div>\n",
              "<style scoped>\n",
              "    .dataframe tbody tr th:only-of-type {\n",
              "        vertical-align: middle;\n",
              "    }\n",
              "\n",
              "    .dataframe tbody tr th {\n",
              "        vertical-align: top;\n",
              "    }\n",
              "\n",
              "    .dataframe thead th {\n",
              "        text-align: right;\n",
              "    }\n",
              "</style>\n",
              "<table border=\"1\" class=\"dataframe\">\n",
              "  <thead>\n",
              "    <tr style=\"text-align: right;\">\n",
              "      <th></th>\n",
              "      <th>User-ID</th>\n",
              "      <th>ISBN</th>\n",
              "      <th>Book-Rating</th>\n",
              "      <th>Title</th>\n",
              "      <th>Author</th>\n",
              "      <th>Year</th>\n",
              "      <th>Publisher</th>\n",
              "      <th>URL-S</th>\n",
              "      <th>URL-M</th>\n",
              "      <th>URL-L</th>\n",
              "    </tr>\n",
              "  </thead>\n",
              "  <tbody>\n",
              "    <tr>\n",
              "      <th>0</th>\n",
              "      <td>276725</td>\n",
              "      <td>034545104X</td>\n",
              "      <td>0</td>\n",
              "      <td>Flesh Tones: A Novel</td>\n",
              "      <td>M. J. Rose</td>\n",
              "      <td>2002</td>\n",
              "      <td>Ballantine Books</td>\n",
              "      <td>http://images.amazon.com/images/P/034545104X.0...</td>\n",
              "      <td>http://images.amazon.com/images/P/034545104X.0...</td>\n",
              "      <td>http://images.amazon.com/images/P/034545104X.0...</td>\n",
              "    </tr>\n",
              "    <tr>\n",
              "      <th>1</th>\n",
              "      <td>276726</td>\n",
              "      <td>0155061224</td>\n",
              "      <td>5</td>\n",
              "      <td>Rites of Passage</td>\n",
              "      <td>Judith Rae</td>\n",
              "      <td>2001</td>\n",
              "      <td>Heinle</td>\n",
              "      <td>http://images.amazon.com/images/P/0155061224.0...</td>\n",
              "      <td>http://images.amazon.com/images/P/0155061224.0...</td>\n",
              "      <td>http://images.amazon.com/images/P/0155061224.0...</td>\n",
              "    </tr>\n",
              "    <tr>\n",
              "      <th>2</th>\n",
              "      <td>276727</td>\n",
              "      <td>0446520802</td>\n",
              "      <td>0</td>\n",
              "      <td>The Notebook</td>\n",
              "      <td>Nicholas Sparks</td>\n",
              "      <td>1996</td>\n",
              "      <td>Warner Books</td>\n",
              "      <td>http://images.amazon.com/images/P/0446520802.0...</td>\n",
              "      <td>http://images.amazon.com/images/P/0446520802.0...</td>\n",
              "      <td>http://images.amazon.com/images/P/0446520802.0...</td>\n",
              "    </tr>\n",
              "    <tr>\n",
              "      <th>3</th>\n",
              "      <td>276729</td>\n",
              "      <td>052165615X</td>\n",
              "      <td>3</td>\n",
              "      <td>Help!: Level 1</td>\n",
              "      <td>Philip Prowse</td>\n",
              "      <td>1999</td>\n",
              "      <td>Cambridge University Press</td>\n",
              "      <td>http://images.amazon.com/images/P/052165615X.0...</td>\n",
              "      <td>http://images.amazon.com/images/P/052165615X.0...</td>\n",
              "      <td>http://images.amazon.com/images/P/052165615X.0...</td>\n",
              "    </tr>\n",
              "    <tr>\n",
              "      <th>4</th>\n",
              "      <td>276729</td>\n",
              "      <td>0521795028</td>\n",
              "      <td>6</td>\n",
              "      <td>The Amsterdam Connection : Level 4 (Cambridge ...</td>\n",
              "      <td>Sue Leather</td>\n",
              "      <td>2001</td>\n",
              "      <td>Cambridge University Press</td>\n",
              "      <td>http://images.amazon.com/images/P/0521795028.0...</td>\n",
              "      <td>http://images.amazon.com/images/P/0521795028.0...</td>\n",
              "      <td>http://images.amazon.com/images/P/0521795028.0...</td>\n",
              "    </tr>\n",
              "  </tbody>\n",
              "</table>\n",
              "</div>"
            ],
            "text/plain": [
              "   User-ID        ISBN  Book-Rating  \\\n",
              "0   276725  034545104X            0   \n",
              "1   276726  0155061224            5   \n",
              "2   276727  0446520802            0   \n",
              "3   276729  052165615X            3   \n",
              "4   276729  0521795028            6   \n",
              "\n",
              "                                               Title           Author  Year  \\\n",
              "0                               Flesh Tones: A Novel       M. J. Rose  2002   \n",
              "1                                   Rites of Passage       Judith Rae  2001   \n",
              "2                                       The Notebook  Nicholas Sparks  1996   \n",
              "3                                     Help!: Level 1    Philip Prowse  1999   \n",
              "4  The Amsterdam Connection : Level 4 (Cambridge ...      Sue Leather  2001   \n",
              "\n",
              "                    Publisher  \\\n",
              "0            Ballantine Books   \n",
              "1                      Heinle   \n",
              "2                Warner Books   \n",
              "3  Cambridge University Press   \n",
              "4  Cambridge University Press   \n",
              "\n",
              "                                               URL-S  \\\n",
              "0  http://images.amazon.com/images/P/034545104X.0...   \n",
              "1  http://images.amazon.com/images/P/0155061224.0...   \n",
              "2  http://images.amazon.com/images/P/0446520802.0...   \n",
              "3  http://images.amazon.com/images/P/052165615X.0...   \n",
              "4  http://images.amazon.com/images/P/0521795028.0...   \n",
              "\n",
              "                                               URL-M  \\\n",
              "0  http://images.amazon.com/images/P/034545104X.0...   \n",
              "1  http://images.amazon.com/images/P/0155061224.0...   \n",
              "2  http://images.amazon.com/images/P/0446520802.0...   \n",
              "3  http://images.amazon.com/images/P/052165615X.0...   \n",
              "4  http://images.amazon.com/images/P/0521795028.0...   \n",
              "\n",
              "                                               URL-L  \n",
              "0  http://images.amazon.com/images/P/034545104X.0...  \n",
              "1  http://images.amazon.com/images/P/0155061224.0...  \n",
              "2  http://images.amazon.com/images/P/0446520802.0...  \n",
              "3  http://images.amazon.com/images/P/052165615X.0...  \n",
              "4  http://images.amazon.com/images/P/0521795028.0...  "
            ]
          },
          "metadata": {
            "tags": []
          },
          "execution_count": 143
        }
      ]
    },
    {
      "cell_type": "code",
      "metadata": {
        "id": "PtimQoov4CRX",
        "colab_type": "code",
        "colab": {}
      },
      "source": [
        "# select user-ID, Author, Book-Rating, Year\n",
        "rating_author = rating_author.iloc[:, [0, 4, 2, 5]]\n",
        "\n",
        "# drop nan\n",
        "rating_author.dropna(inplace=True)\n",
        "rating_author = rating_author[rating_author.Year.str.contains(pat='\\d', regex=True)].iloc[:, 0:3]"
      ],
      "execution_count": 0,
      "outputs": []
    },
    {
      "cell_type": "markdown",
      "metadata": {
        "id": "9FDc2hl24CvQ",
        "colab_type": "text"
      },
      "source": [
        "# arrange dataset"
      ]
    },
    {
      "cell_type": "code",
      "metadata": {
        "id": "2TOAz38W4C86",
        "colab_type": "code",
        "colab": {}
      },
      "source": [
        "# calc rating by user and author \n",
        "data = rating_author.groupby(['User-ID', 'Author'])[\"Book-Rating\"].agg(['mean']).reset_index()\n",
        "data.sort_values(by=['User-ID', 'Author'], inplace=True)\n",
        "data.columns = [\"userID\", \"author\", \"raw_ratings\"]"
      ],
      "execution_count": 0,
      "outputs": []
    },
    {
      "cell_type": "code",
      "metadata": {
        "id": "5u__12r53YZl",
        "colab_type": "code",
        "colab": {}
      },
      "source": [
        "data.raw_ratings = data.raw_ratings.astype(\"int\")"
      ],
      "execution_count": 0,
      "outputs": []
    },
    {
      "cell_type": "code",
      "metadata": {
        "id": "aOCRhar_UGEE",
        "colab_type": "code",
        "outputId": "ede73858-3ca9-4f15-eb15-3ab459b51a58",
        "colab": {
          "base_uri": "https://localhost:8080/",
          "height": 35
        }
      },
      "source": [
        "del user, item, rating, rating_author\n",
        "gc.collect()"
      ],
      "execution_count": 0,
      "outputs": [
        {
          "output_type": "execute_result",
          "data": {
            "text/plain": [
              "91"
            ]
          },
          "metadata": {
            "tags": []
          },
          "execution_count": 147
        }
      ]
    },
    {
      "cell_type": "markdown",
      "metadata": {
        "id": "l7zr3ecg3Yyf",
        "colab_type": "text"
      },
      "source": [
        "# make dataset for keras"
      ]
    },
    {
      "cell_type": "code",
      "metadata": {
        "id": "KeoDRpXbPHtS",
        "colab_type": "code",
        "colab": {}
      },
      "source": [
        "# convert to category\n",
        "data[\"user_category\"] = data.userID.astype('category').cat.codes.values\n",
        "data[\"author_category\"] = data.author.astype('category').cat.codes.values"
      ],
      "execution_count": 0,
      "outputs": []
    },
    {
      "cell_type": "code",
      "metadata": {
        "id": "ISIre5d5PzY-",
        "colab_type": "code",
        "outputId": "862b09c4-f26d-47f2-c755-e74e93b32a8c",
        "colab": {
          "base_uri": "https://localhost:8080/",
          "height": 202
        }
      },
      "source": [
        "data.head()"
      ],
      "execution_count": 0,
      "outputs": [
        {
          "output_type": "execute_result",
          "data": {
            "text/html": [
              "<div>\n",
              "<style scoped>\n",
              "    .dataframe tbody tr th:only-of-type {\n",
              "        vertical-align: middle;\n",
              "    }\n",
              "\n",
              "    .dataframe tbody tr th {\n",
              "        vertical-align: top;\n",
              "    }\n",
              "\n",
              "    .dataframe thead th {\n",
              "        text-align: right;\n",
              "    }\n",
              "</style>\n",
              "<table border=\"1\" class=\"dataframe\">\n",
              "  <thead>\n",
              "    <tr style=\"text-align: right;\">\n",
              "      <th></th>\n",
              "      <th>userID</th>\n",
              "      <th>author</th>\n",
              "      <th>raw_ratings</th>\n",
              "      <th>user_category</th>\n",
              "      <th>author_category</th>\n",
              "    </tr>\n",
              "  </thead>\n",
              "  <tbody>\n",
              "    <tr>\n",
              "      <th>0</th>\n",
              "      <td>2</td>\n",
              "      <td>Mark P. O. Morford</td>\n",
              "      <td>0</td>\n",
              "      <td>0</td>\n",
              "      <td>64914</td>\n",
              "    </tr>\n",
              "    <tr>\n",
              "      <th>1</th>\n",
              "      <td>8</td>\n",
              "      <td>Adam Lebor</td>\n",
              "      <td>0</td>\n",
              "      <td>1</td>\n",
              "      <td>846</td>\n",
              "    </tr>\n",
              "    <tr>\n",
              "      <th>2</th>\n",
              "      <td>8</td>\n",
              "      <td>Amy Tan</td>\n",
              "      <td>0</td>\n",
              "      <td>1</td>\n",
              "      <td>3363</td>\n",
              "    </tr>\n",
              "    <tr>\n",
              "      <th>3</th>\n",
              "      <td>8</td>\n",
              "      <td>Ann Beattie</td>\n",
              "      <td>5</td>\n",
              "      <td>1</td>\n",
              "      <td>4388</td>\n",
              "    </tr>\n",
              "    <tr>\n",
              "      <th>4</th>\n",
              "      <td>8</td>\n",
              "      <td>Carlo D'Este</td>\n",
              "      <td>0</td>\n",
              "      <td>1</td>\n",
              "      <td>12614</td>\n",
              "    </tr>\n",
              "  </tbody>\n",
              "</table>\n",
              "</div>"
            ],
            "text/plain": [
              "   userID              author  raw_ratings  user_category  author_category\n",
              "0       2  Mark P. O. Morford            0              0            64914\n",
              "1       8          Adam Lebor            0              1              846\n",
              "2       8             Amy Tan            0              1             3363\n",
              "3       8         Ann Beattie            5              1             4388\n",
              "4       8        Carlo D'Este            0              1            12614"
            ]
          },
          "metadata": {
            "tags": []
          },
          "execution_count": 149
        }
      ]
    },
    {
      "cell_type": "code",
      "metadata": {
        "id": "56CKHZ2DQctd",
        "colab_type": "code",
        "colab": {}
      },
      "source": [
        "# binning raw_ratings\n",
        "data.raw_ratings = data.raw_ratings.apply(lambda x : 0 if x == 0 else (1 if x in [1,2,3,4]  else (2 if x in[5, 6, 7] else 3)))"
      ],
      "execution_count": 0,
      "outputs": []
    },
    {
      "cell_type": "code",
      "metadata": {
        "id": "ss4zK9ATQxoU",
        "colab_type": "code",
        "colab": {}
      },
      "source": [
        "X = data.drop(['userID', 'author', 'raw_ratings'], axis=1)\n",
        "y = data.raw_ratings"
      ],
      "execution_count": 0,
      "outputs": []
    },
    {
      "cell_type": "markdown",
      "metadata": {
        "id": "10XJutoc6Qsb",
        "colab_type": "text"
      },
      "source": [
        "# Define training function"
      ]
    },
    {
      "cell_type": "code",
      "metadata": {
        "id": "wUjZ2Q7Q6QWh",
        "colab_type": "code",
        "colab": {}
      },
      "source": [
        "def train_keras(model):\n",
        "  k = 5\n",
        "  for i in range(k):\n",
        "    print(\"===========Round\" + str(i) + \" Start===========\" )\n",
        "    train_x, test_x, train_y, test_y = train_test_split(X, y, test_size=0.1, random_state=i)\n",
        "  \n",
        "    model.fit([train_x.user_category, train_x.author_category],  train_y,  epochs=10, validation_split=0.2,\n",
        "              callbacks=[mcheck, echeck, ncheck], verbose=1)\n",
        "  \n",
        "    model.evaluate([test_x.user_category, test_x.author_category], test_y, verbose=1)\n",
        "    pred = model.predict([test_x.user_category, test_x.author_category])\n",
        "  \n",
        "    print(np.sqrt(mean_squared_error(test_y, pred)))"
      ],
      "execution_count": 0,
      "outputs": []
    },
    {
      "cell_type": "markdown",
      "metadata": {
        "id": "3YW3yykN3Y9Q",
        "colab_type": "text"
      },
      "source": [
        "# make network for Keras MF & Training"
      ]
    },
    {
      "cell_type": "code",
      "metadata": {
        "id": "vRWH3pQh6TbA",
        "colab_type": "code",
        "colab": {}
      },
      "source": [
        "n_users, n_author = len(data.user_category.unique()), len(data.author_category.unique())\n",
        "n_latent_factors = 3"
      ],
      "execution_count": 0,
      "outputs": []
    },
    {
      "cell_type": "code",
      "metadata": {
        "id": "EkJKObl_YBX6",
        "colab_type": "code",
        "colab": {}
      },
      "source": [
        "# define metrics\n",
        "from keras import backend as K\n",
        "def rmse(y_true, y_pred):\n",
        "        return K.sqrt(K.mean(K.square(y_pred - y_true), axis=-1)) "
      ],
      "execution_count": 0,
      "outputs": []
    },
    {
      "cell_type": "code",
      "metadata": {
        "id": "A3GNNf5-RBvt",
        "colab_type": "code",
        "colab": {}
      },
      "source": [
        "# author network\n",
        "author_input = keras.layers.Input(shape=[1], name='author')\n",
        "author_embedding = keras.layers.Embedding(n_author + 1, n_latent_factors, name='author-Embedding')(author_input)\n",
        "author_vec = keras.layers.Flatten(name='flatten_author')(author_embedding)\n",
        "author_vec = keras.layers.Dropout(0.2)(author_vec)\n",
        "\n",
        "# user network\n",
        "user_input = keras.layers.Input(shape=[1],name='User')\n",
        "user_embedding = keras.layers.Embedding(n_author + 1, n_latent_factors, name='user-Embedding')(user_input)\n",
        "user_vec = keras.layers.Flatten(name='flatten_users')(user_embedding)\n",
        "user_vec = keras.layers.Dropout(0.2)(user_vec)\n",
        "\n",
        "# concat author and user\n",
        "concat_vec = keras.layers.concatenate([author_vec, user_vec], axis=-1)\n",
        "concat_vec = keras.layers.Dropout(0.2)(concat_vec)\n",
        "\n",
        "# full-connected\n",
        "dense4 = keras.layers.Dense(4, name='FullyConnected1', activation='relu')(concat_vec)\n",
        "result = keras.layers.Dense(1, activation='relu',name='Activation')(dense4)\n",
        "model = keras.Model([user_input, author_input], result)\n",
        "model.compile(optimizer='Adagrad', loss='mse', metrics=[rmse])"
      ],
      "execution_count": 0,
      "outputs": []
    },
    {
      "cell_type": "code",
      "metadata": {
        "id": "0E_8eUggRB46",
        "colab_type": "code",
        "colab": {}
      },
      "source": [
        "# define callback\n",
        "mcheck = ModelCheckpoint(filepath=\"./recommend.h5\", monitor='val_loss', save_best_only=True)\n",
        "echeck = EarlyStopping(monitor='val_loss', patience=0, verbose=0, mode='auto')\n",
        "ncheck = TerminateOnNaN()"
      ],
      "execution_count": 0,
      "outputs": []
    },
    {
      "cell_type": "code",
      "metadata": {
        "id": "98pzko92YLlT",
        "colab_type": "code",
        "outputId": "8cd4b368-bd53-4bc7-9a31-725173d4e8a4",
        "colab": {
          "base_uri": "https://localhost:8080/",
          "height": 809
        }
      },
      "source": [
        "train_keras(model)"
      ],
      "execution_count": 0,
      "outputs": [
        {
          "output_type": "stream",
          "text": [
            "===========Round0 Start===========\n",
            "Train on 583859 samples, validate on 145965 samples\n",
            "Epoch 1/10\n",
            "583859/583859 [==============================] - 66s 113us/step - loss: 1.3348 - rmse: 1.0016 - val_loss: 1.2404 - val_rmse: 0.9360\n",
            "Epoch 2/10\n",
            "583859/583859 [==============================] - 65s 111us/step - loss: 1.2041 - rmse: 0.9119 - val_loss: 1.2153 - val_rmse: 0.9050\n",
            "Epoch 3/10\n",
            "583859/583859 [==============================] - 65s 111us/step - loss: 1.1462 - rmse: 0.8727 - val_loss: 1.2127 - val_rmse: 0.8905\n",
            "Epoch 4/10\n",
            "583859/583859 [==============================] - 65s 111us/step - loss: 1.1003 - rmse: 0.8442 - val_loss: 1.2166 - val_rmse: 0.8841\n",
            "81092/81092 [==============================] - 3s 40us/step\n",
            "1.0977994338977937\n",
            "===========Round1 Start===========\n",
            "Train on 583859 samples, validate on 145965 samples\n",
            "Epoch 1/10\n",
            "583859/583859 [==============================] - 66s 114us/step - loss: 1.1240 - rmse: 0.8529 - val_loss: 1.0641 - val_rmse: 0.8234\n",
            "Epoch 2/10\n",
            "583859/583859 [==============================] - 64s 109us/step - loss: 1.0874 - rmse: 0.8357 - val_loss: 1.0676 - val_rmse: 0.8225\n",
            "81092/81092 [==============================] - 3s 40us/step\n",
            "1.0317214188837773\n",
            "===========Round2 Start===========\n",
            "Train on 583859 samples, validate on 145965 samples\n",
            "Epoch 1/10\n",
            "583859/583859 [==============================] - 65s 111us/step - loss: 1.0807 - rmse: 0.8302 - val_loss: 1.0158 - val_rmse: 0.7966\n",
            "Epoch 2/10\n",
            "583859/583859 [==============================] - 64s 110us/step - loss: 1.0552 - rmse: 0.8160 - val_loss: 1.0223 - val_rmse: 0.7965\n",
            "81092/81092 [==============================] - 3s 41us/step\n",
            "1.0109699795273923\n",
            "===========Round3 Start===========\n",
            "Train on 583859 samples, validate on 145965 samples\n",
            "Epoch 1/10\n",
            "583859/583859 [==============================] - 66s 113us/step - loss: 1.0516 - rmse: 0.8126 - val_loss: 0.9811 - val_rmse: 0.7756\n",
            "Epoch 2/10\n",
            "583859/583859 [==============================] - 65s 111us/step - loss: 1.0309 - rmse: 0.8015 - val_loss: 0.9888 - val_rmse: 0.7764\n",
            "81092/81092 [==============================] - 3s 41us/step\n",
            "0.9926018199357021\n",
            "===========Round4 Start===========\n",
            "Train on 583859 samples, validate on 145965 samples\n",
            "Epoch 1/10\n",
            "583859/583859 [==============================] - 64s 110us/step - loss: 1.0273 - rmse: 0.7979 - val_loss: 0.9570 - val_rmse: 0.7609\n",
            "Epoch 2/10\n",
            "583859/583859 [==============================] - 63s 108us/step - loss: 1.0101 - rmse: 0.7881 - val_loss: 0.9660 - val_rmse: 0.7629\n",
            "81092/81092 [==============================] - 3s 40us/step\n",
            "0.9806957998797429\n"
          ],
          "name": "stdout"
        }
      ]
    },
    {
      "cell_type": "markdown",
      "metadata": {
        "id": "S7slHvcDVtCW",
        "colab_type": "text"
      },
      "source": [
        "# make network for Keras NMF & Training"
      ]
    },
    {
      "cell_type": "code",
      "metadata": {
        "id": "_ydLATMhRCID",
        "colab_type": "code",
        "colab": {}
      },
      "source": [
        "from keras.constraints import non_neg\n",
        "\n",
        "# author network\n",
        "author_input = keras.layers.Input(shape=[1], name='author')\n",
        "author_embedding = keras.layers.Embedding(n_author + 1, n_latent_factors, name='author-Embedding', embeddings_constraint=non_neg())(author_input)\n",
        "author_vec = keras.layers.Flatten(name='flatten_author')(author_embedding)\n",
        "author_vec = keras.layers.Dropout(0.2)(author_vec)\n",
        "\n",
        "# user network\n",
        "user_input = keras.layers.Input(shape=[1],name='User')\n",
        "user_embedding = keras.layers.Embedding(n_author + 1, n_latent_factors, name='user-Embedding', embeddings_constraint=non_neg())(user_input)\n",
        "user_vec = keras.layers.Flatten(name='flatten_users')(user_embedding)\n",
        "user_vec = keras.layers.Dropout(0.2)(user_vec)\n",
        "\n",
        "# concat author and user\n",
        "concat_vec = keras.layers.concatenate([author_vec, user_vec], axis=-1)\n",
        "concat_vec = keras.layers.Dropout(0.2)(concat_vec)\n",
        "\n",
        "# full-connected\n",
        "dense4 = keras.layers.Dense(4, name='FullyConnected1', activation='relu')(concat_vec)\n",
        "result = keras.layers.Dense(1, activation='relu',name='Activation')(dense4)\n",
        "model = keras.Model([user_input, author_input], result)\n",
        "model.compile(optimizer='Adagrad', loss='mse', metrics=[rmse])"
      ],
      "execution_count": 0,
      "outputs": []
    },
    {
      "cell_type": "code",
      "metadata": {
        "id": "yqojHsHg7Dya",
        "colab_type": "code",
        "outputId": "a5f37385-5e23-45bc-f0d9-c90ee78b8984",
        "colab": {
          "base_uri": "https://localhost:8080/",
          "height": 845
        }
      },
      "source": [
        "train_keras(model)"
      ],
      "execution_count": 0,
      "outputs": [
        {
          "output_type": "stream",
          "text": [
            "===========Round0 Start===========\n",
            "Train on 583859 samples, validate on 145965 samples\n",
            "Epoch 1/10\n",
            "583859/583859 [==============================] - 100s 171us/step - loss: 0.2098 - rmse: 0.4239 - val_loss: 0.1931 - val_rmse: 0.4066\n",
            "Epoch 2/10\n",
            "583859/583859 [==============================] - 98s 168us/step - loss: 0.1922 - rmse: 0.3891 - val_loss: 0.1885 - val_rmse: 0.3948\n",
            "Epoch 3/10\n",
            "583859/583859 [==============================] - 95s 163us/step - loss: 0.1845 - rmse: 0.3735 - val_loss: 0.1876 - val_rmse: 0.3904\n",
            "Epoch 4/10\n",
            "583859/583859 [==============================] - 101s 173us/step - loss: 0.1788 - rmse: 0.3626 - val_loss: 0.1874 - val_rmse: 0.3875\n",
            "Epoch 5/10\n",
            "583859/583859 [==============================] - 99s 169us/step - loss: 0.1746 - rmse: 0.3540 - val_loss: 0.1877 - val_rmse: 0.3855\n",
            "81092/81092 [==============================] - 6s 75us/step\n",
            "0.43244895150866175\n",
            "===========Round1 Start===========\n",
            "Train on 583859 samples, validate on 145965 samples\n",
            "Epoch 1/10\n",
            "583859/583859 [==============================] - 98s 168us/step - loss: 0.1796 - rmse: 0.3605 - val_loss: 0.1671 - val_rmse: 0.3652\n",
            "Epoch 2/10\n",
            "583859/583859 [==============================] - 100s 172us/step - loss: 0.1750 - rmse: 0.3537 - val_loss: 0.1677 - val_rmse: 0.3643\n",
            "81092/81092 [==============================] - 6s 71us/step\n",
            "0.4096420640823176\n",
            "===========Round2 Start===========\n",
            "Train on 583859 samples, validate on 145965 samples\n",
            "Epoch 1/10\n",
            "583859/583859 [==============================] - 99s 170us/step - loss: 0.1747 - rmse: 0.3524 - val_loss: 0.1614 - val_rmse: 0.3572\n",
            "Epoch 2/10\n",
            "583859/583859 [==============================] - 96s 165us/step - loss: 0.1714 - rmse: 0.3469 - val_loss: 0.1623 - val_rmse: 0.3563\n",
            "81092/81092 [==============================] - 6s 74us/step\n",
            "0.40233200245252015\n",
            "===========Round3 Start===========\n",
            "Train on 583859 samples, validate on 145965 samples\n",
            "Epoch 1/10\n",
            "583859/583859 [==============================] - 100s 171us/step - loss: 0.1710 - rmse: 0.3454 - val_loss: 0.1575 - val_rmse: 0.3510\n",
            "Epoch 2/10\n",
            "583859/583859 [==============================] - 98s 167us/step - loss: 0.1685 - rmse: 0.3411 - val_loss: 0.1587 - val_rmse: 0.3510\n",
            "81092/81092 [==============================] - 6s 74us/step\n",
            "0.3974245879063985\n",
            "===========Round4 Start===========\n",
            "Train on 583859 samples, validate on 145965 samples\n",
            "Epoch 1/10\n",
            "583859/583859 [==============================] - 99s 170us/step - loss: 0.1685 - rmse: 0.3404 - val_loss: 0.1546 - val_rmse: 0.3458\n",
            "Epoch 2/10\n",
            "583859/583859 [==============================] - 102s 174us/step - loss: 0.1662 - rmse: 0.3368 - val_loss: 0.1557 - val_rmse: 0.3453\n",
            "81092/81092 [==============================] - 6s 75us/step\n",
            "0.3935369646725725\n"
          ],
          "name": "stdout"
        }
      ]
    },
    {
      "cell_type": "code",
      "metadata": {
        "id": "2OEqvoJF8GYK",
        "colab_type": "code",
        "colab": {}
      },
      "source": [
        ""
      ],
      "execution_count": 0,
      "outputs": []
    }
  ]
}